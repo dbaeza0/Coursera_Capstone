{
    "cells": [
        {
            "cell_type": "markdown",
            "metadata": {
                "button": false,
                "new_sheet": false,
                "run_control": {
                    "read_only": false
                }
            },
            "source": "<a href=\"https://cognitiveclass.ai\"><img src = \"https://s3-api.us-geo.objectstorage.softlayer.net/cf-courses-data/CognitiveClass/Logos/organization_logo/organization_logo.png\" width = 400> </a>\n\n<h1 align=center><font size = 5>Introduction to Deep Learning &#x26; Neural Networks with Keras </font></h1>\n<h2 align=center>Final Assignment<font size = 5></font></h2>"
        },
        {
            "cell_type": "markdown",
            "metadata": {
                "button": false,
                "new_sheet": false,
                "run_control": {
                    "read_only": false
                }
            },
            "source": "## Preprocessing And Data Wrangling"
        },
        {
            "cell_type": "code",
            "execution_count": 7,
            "metadata": {
                "button": false,
                "new_sheet": false,
                "run_control": {
                    "read_only": false
                }
            },
            "outputs": [],
            "source": "import pandas as pd\nimport numpy as np"
        },
        {
            "cell_type": "code",
            "execution_count": 2,
            "metadata": {
                "button": false,
                "new_sheet": false,
                "run_control": {
                    "read_only": false
                }
            },
            "outputs": [
                {
                    "data": {
                        "text/html": "<div>\n<style scoped>\n    .dataframe tbody tr th:only-of-type {\n        vertical-align: middle;\n    }\n\n    .dataframe tbody tr th {\n        vertical-align: top;\n    }\n\n    .dataframe thead th {\n        text-align: right;\n    }\n</style>\n<table border=\"1\" class=\"dataframe\">\n  <thead>\n    <tr style=\"text-align: right;\">\n      <th></th>\n      <th>Cement</th>\n      <th>Blast Furnace Slag</th>\n      <th>Fly Ash</th>\n      <th>Water</th>\n      <th>Superplasticizer</th>\n      <th>Coarse Aggregate</th>\n      <th>Fine Aggregate</th>\n      <th>Age</th>\n      <th>Strength</th>\n    </tr>\n  </thead>\n  <tbody>\n    <tr>\n      <th>0</th>\n      <td>540.0</td>\n      <td>0.0</td>\n      <td>0.0</td>\n      <td>162.0</td>\n      <td>2.5</td>\n      <td>1040.0</td>\n      <td>676.0</td>\n      <td>28</td>\n      <td>79.99</td>\n    </tr>\n    <tr>\n      <th>1</th>\n      <td>540.0</td>\n      <td>0.0</td>\n      <td>0.0</td>\n      <td>162.0</td>\n      <td>2.5</td>\n      <td>1055.0</td>\n      <td>676.0</td>\n      <td>28</td>\n      <td>61.89</td>\n    </tr>\n    <tr>\n      <th>2</th>\n      <td>332.5</td>\n      <td>142.5</td>\n      <td>0.0</td>\n      <td>228.0</td>\n      <td>0.0</td>\n      <td>932.0</td>\n      <td>594.0</td>\n      <td>270</td>\n      <td>40.27</td>\n    </tr>\n    <tr>\n      <th>3</th>\n      <td>332.5</td>\n      <td>142.5</td>\n      <td>0.0</td>\n      <td>228.0</td>\n      <td>0.0</td>\n      <td>932.0</td>\n      <td>594.0</td>\n      <td>365</td>\n      <td>41.05</td>\n    </tr>\n    <tr>\n      <th>4</th>\n      <td>198.6</td>\n      <td>132.4</td>\n      <td>0.0</td>\n      <td>192.0</td>\n      <td>0.0</td>\n      <td>978.4</td>\n      <td>825.5</td>\n      <td>360</td>\n      <td>44.30</td>\n    </tr>\n  </tbody>\n</table>\n</div>",
                        "text/plain": "   Cement  Blast Furnace Slag  Fly Ash  Water  Superplasticizer  \\\n0   540.0                 0.0      0.0  162.0               2.5   \n1   540.0                 0.0      0.0  162.0               2.5   \n2   332.5               142.5      0.0  228.0               0.0   \n3   332.5               142.5      0.0  228.0               0.0   \n4   198.6               132.4      0.0  192.0               0.0   \n\n   Coarse Aggregate  Fine Aggregate  Age  Strength  \n0            1040.0           676.0   28     79.99  \n1            1055.0           676.0   28     61.89  \n2             932.0           594.0  270     40.27  \n3             932.0           594.0  365     41.05  \n4             978.4           825.5  360     44.30  "
                    },
                    "execution_count": 2,
                    "metadata": {},
                    "output_type": "execute_result"
                }
            ],
            "source": "concrete_data = pd.read_csv('https://cocl.us/concrete_data')\nconcrete_data.head()"
        },
        {
            "cell_type": "code",
            "execution_count": 3,
            "metadata": {
                "button": false,
                "new_sheet": false,
                "run_control": {
                    "read_only": false
                }
            },
            "outputs": [
                {
                    "data": {
                        "text/plain": "(1030, 9)"
                    },
                    "execution_count": 3,
                    "metadata": {},
                    "output_type": "execute_result"
                }
            ],
            "source": "concrete_data.shape"
        },
        {
            "cell_type": "code",
            "execution_count": 7,
            "metadata": {
                "button": false,
                "new_sheet": false,
                "run_control": {
                    "read_only": false
                }
            },
            "outputs": [
                {
                    "data": {
                        "text/html": "<div>\n<style scoped>\n    .dataframe tbody tr th:only-of-type {\n        vertical-align: middle;\n    }\n\n    .dataframe tbody tr th {\n        vertical-align: top;\n    }\n\n    .dataframe thead th {\n        text-align: right;\n    }\n</style>\n<table border=\"1\" class=\"dataframe\">\n  <thead>\n    <tr style=\"text-align: right;\">\n      <th></th>\n      <th>Cement</th>\n      <th>Blast Furnace Slag</th>\n      <th>Fly Ash</th>\n      <th>Water</th>\n      <th>Superplasticizer</th>\n      <th>Coarse Aggregate</th>\n      <th>Fine Aggregate</th>\n      <th>Age</th>\n      <th>Strength</th>\n    </tr>\n  </thead>\n  <tbody>\n    <tr>\n      <th>count</th>\n      <td>1030.000000</td>\n      <td>1030.000000</td>\n      <td>1030.000000</td>\n      <td>1030.000000</td>\n      <td>1030.000000</td>\n      <td>1030.000000</td>\n      <td>1030.000000</td>\n      <td>1030.000000</td>\n      <td>1030.000000</td>\n    </tr>\n    <tr>\n      <th>mean</th>\n      <td>281.167864</td>\n      <td>73.895825</td>\n      <td>54.188350</td>\n      <td>181.567282</td>\n      <td>6.204660</td>\n      <td>972.918932</td>\n      <td>773.580485</td>\n      <td>45.662136</td>\n      <td>35.817961</td>\n    </tr>\n    <tr>\n      <th>std</th>\n      <td>104.506364</td>\n      <td>86.279342</td>\n      <td>63.997004</td>\n      <td>21.354219</td>\n      <td>5.973841</td>\n      <td>77.753954</td>\n      <td>80.175980</td>\n      <td>63.169912</td>\n      <td>16.705742</td>\n    </tr>\n    <tr>\n      <th>min</th>\n      <td>102.000000</td>\n      <td>0.000000</td>\n      <td>0.000000</td>\n      <td>121.800000</td>\n      <td>0.000000</td>\n      <td>801.000000</td>\n      <td>594.000000</td>\n      <td>1.000000</td>\n      <td>2.330000</td>\n    </tr>\n    <tr>\n      <th>25%</th>\n      <td>192.375000</td>\n      <td>0.000000</td>\n      <td>0.000000</td>\n      <td>164.900000</td>\n      <td>0.000000</td>\n      <td>932.000000</td>\n      <td>730.950000</td>\n      <td>7.000000</td>\n      <td>23.710000</td>\n    </tr>\n    <tr>\n      <th>50%</th>\n      <td>272.900000</td>\n      <td>22.000000</td>\n      <td>0.000000</td>\n      <td>185.000000</td>\n      <td>6.400000</td>\n      <td>968.000000</td>\n      <td>779.500000</td>\n      <td>28.000000</td>\n      <td>34.445000</td>\n    </tr>\n    <tr>\n      <th>75%</th>\n      <td>350.000000</td>\n      <td>142.950000</td>\n      <td>118.300000</td>\n      <td>192.000000</td>\n      <td>10.200000</td>\n      <td>1029.400000</td>\n      <td>824.000000</td>\n      <td>56.000000</td>\n      <td>46.135000</td>\n    </tr>\n    <tr>\n      <th>max</th>\n      <td>540.000000</td>\n      <td>359.400000</td>\n      <td>200.100000</td>\n      <td>247.000000</td>\n      <td>32.200000</td>\n      <td>1145.000000</td>\n      <td>992.600000</td>\n      <td>365.000000</td>\n      <td>82.600000</td>\n    </tr>\n  </tbody>\n</table>\n</div>",
                        "text/plain": "            Cement  Blast Furnace Slag      Fly Ash        Water  \\\ncount  1030.000000         1030.000000  1030.000000  1030.000000   \nmean    281.167864           73.895825    54.188350   181.567282   \nstd     104.506364           86.279342    63.997004    21.354219   \nmin     102.000000            0.000000     0.000000   121.800000   \n25%     192.375000            0.000000     0.000000   164.900000   \n50%     272.900000           22.000000     0.000000   185.000000   \n75%     350.000000          142.950000   118.300000   192.000000   \nmax     540.000000          359.400000   200.100000   247.000000   \n\n       Superplasticizer  Coarse Aggregate  Fine Aggregate          Age  \\\ncount       1030.000000       1030.000000     1030.000000  1030.000000   \nmean           6.204660        972.918932      773.580485    45.662136   \nstd            5.973841         77.753954       80.175980    63.169912   \nmin            0.000000        801.000000      594.000000     1.000000   \n25%            0.000000        932.000000      730.950000     7.000000   \n50%            6.400000        968.000000      779.500000    28.000000   \n75%           10.200000       1029.400000      824.000000    56.000000   \nmax           32.200000       1145.000000      992.600000   365.000000   \n\n          Strength  \ncount  1030.000000  \nmean     35.817961  \nstd      16.705742  \nmin       2.330000  \n25%      23.710000  \n50%      34.445000  \n75%      46.135000  \nmax      82.600000  "
                    },
                    "execution_count": 7,
                    "metadata": {},
                    "output_type": "execute_result"
                }
            ],
            "source": "concrete_data.describe()"
        },
        {
            "cell_type": "code",
            "execution_count": 8,
            "metadata": {
                "button": false,
                "new_sheet": false,
                "run_control": {
                    "read_only": false
                }
            },
            "outputs": [
                {
                    "data": {
                        "text/plain": "Cement                0\nBlast Furnace Slag    0\nFly Ash               0\nWater                 0\nSuperplasticizer      0\nCoarse Aggregate      0\nFine Aggregate        0\nAge                   0\nStrength              0\ndtype: int64"
                    },
                    "execution_count": 8,
                    "metadata": {},
                    "output_type": "execute_result"
                }
            ],
            "source": "concrete_data.isnull().sum()"
        },
        {
            "cell_type": "markdown",
            "metadata": {
                "button": false,
                "new_sheet": false,
                "run_control": {
                    "read_only": false
                }
            },
            "source": "The data looks very clean and is ready to be used to build our model."
        },
        {
            "cell_type": "markdown",
            "metadata": {
                "button": false,
                "new_sheet": false,
                "run_control": {
                    "read_only": false
                }
            },
            "source": "## Split data into predictors and target"
        },
        {
            "cell_type": "code",
            "execution_count": 9,
            "metadata": {
                "button": false,
                "new_sheet": false,
                "run_control": {
                    "read_only": false
                }
            },
            "outputs": [],
            "source": "concrete_data_columns = concrete_data.columns\n\npredictors = concrete_data[concrete_data_columns[concrete_data_columns != 'Strength']] # all columns except Strength\ntarget = concrete_data['Strength'] # Strength column"
        },
        {
            "cell_type": "markdown",
            "metadata": {
                "button": false,
                "new_sheet": false,
                "run_control": {
                    "read_only": false
                }
            },
            "source": "<a id=\"item2\"></a>"
        },
        {
            "cell_type": "code",
            "execution_count": 10,
            "metadata": {
                "button": false,
                "new_sheet": false,
                "run_control": {
                    "read_only": false
                }
            },
            "outputs": [
                {
                    "data": {
                        "text/html": "<div>\n<style scoped>\n    .dataframe tbody tr th:only-of-type {\n        vertical-align: middle;\n    }\n\n    .dataframe tbody tr th {\n        vertical-align: top;\n    }\n\n    .dataframe thead th {\n        text-align: right;\n    }\n</style>\n<table border=\"1\" class=\"dataframe\">\n  <thead>\n    <tr style=\"text-align: right;\">\n      <th></th>\n      <th>Cement</th>\n      <th>Blast Furnace Slag</th>\n      <th>Fly Ash</th>\n      <th>Water</th>\n      <th>Superplasticizer</th>\n      <th>Coarse Aggregate</th>\n      <th>Fine Aggregate</th>\n      <th>Age</th>\n    </tr>\n  </thead>\n  <tbody>\n    <tr>\n      <th>0</th>\n      <td>540.0</td>\n      <td>0.0</td>\n      <td>0.0</td>\n      <td>162.0</td>\n      <td>2.5</td>\n      <td>1040.0</td>\n      <td>676.0</td>\n      <td>28</td>\n    </tr>\n    <tr>\n      <th>1</th>\n      <td>540.0</td>\n      <td>0.0</td>\n      <td>0.0</td>\n      <td>162.0</td>\n      <td>2.5</td>\n      <td>1055.0</td>\n      <td>676.0</td>\n      <td>28</td>\n    </tr>\n    <tr>\n      <th>2</th>\n      <td>332.5</td>\n      <td>142.5</td>\n      <td>0.0</td>\n      <td>228.0</td>\n      <td>0.0</td>\n      <td>932.0</td>\n      <td>594.0</td>\n      <td>270</td>\n    </tr>\n    <tr>\n      <th>3</th>\n      <td>332.5</td>\n      <td>142.5</td>\n      <td>0.0</td>\n      <td>228.0</td>\n      <td>0.0</td>\n      <td>932.0</td>\n      <td>594.0</td>\n      <td>365</td>\n    </tr>\n    <tr>\n      <th>4</th>\n      <td>198.6</td>\n      <td>132.4</td>\n      <td>0.0</td>\n      <td>192.0</td>\n      <td>0.0</td>\n      <td>978.4</td>\n      <td>825.5</td>\n      <td>360</td>\n    </tr>\n  </tbody>\n</table>\n</div>",
                        "text/plain": "   Cement  Blast Furnace Slag  Fly Ash  Water  Superplasticizer  \\\n0   540.0                 0.0      0.0  162.0               2.5   \n1   540.0                 0.0      0.0  162.0               2.5   \n2   332.5               142.5      0.0  228.0               0.0   \n3   332.5               142.5      0.0  228.0               0.0   \n4   198.6               132.4      0.0  192.0               0.0   \n\n   Coarse Aggregate  Fine Aggregate  Age  \n0            1040.0           676.0   28  \n1            1055.0           676.0   28  \n2             932.0           594.0  270  \n3             932.0           594.0  365  \n4             978.4           825.5  360  "
                    },
                    "execution_count": 10,
                    "metadata": {},
                    "output_type": "execute_result"
                }
            ],
            "source": "predictors.head()"
        },
        {
            "cell_type": "code",
            "execution_count": 11,
            "metadata": {
                "button": false,
                "new_sheet": false,
                "run_control": {
                    "read_only": false
                }
            },
            "outputs": [
                {
                    "data": {
                        "text/plain": "0    79.99\n1    61.89\n2    40.27\n3    41.05\n4    44.30\nName: Strength, dtype: float64"
                    },
                    "execution_count": 11,
                    "metadata": {},
                    "output_type": "execute_result"
                }
            ],
            "source": "target.head()"
        },
        {
            "cell_type": "markdown",
            "metadata": {
                "button": false,
                "new_sheet": false,
                "run_control": {
                    "read_only": false
                }
            },
            "source": "## Normalize the data by substracting the mean and dividing by the standard deviation for reactive B and onwards."
        },
        {
            "cell_type": "code",
            "execution_count": 12,
            "metadata": {
                "button": false,
                "new_sheet": false,
                "run_control": {
                    "read_only": false
                }
            },
            "outputs": [
                {
                    "data": {
                        "text/html": "<div>\n<style scoped>\n    .dataframe tbody tr th:only-of-type {\n        vertical-align: middle;\n    }\n\n    .dataframe tbody tr th {\n        vertical-align: top;\n    }\n\n    .dataframe thead th {\n        text-align: right;\n    }\n</style>\n<table border=\"1\" class=\"dataframe\">\n  <thead>\n    <tr style=\"text-align: right;\">\n      <th></th>\n      <th>Cement</th>\n      <th>Blast Furnace Slag</th>\n      <th>Fly Ash</th>\n      <th>Water</th>\n      <th>Superplasticizer</th>\n      <th>Coarse Aggregate</th>\n      <th>Fine Aggregate</th>\n      <th>Age</th>\n    </tr>\n  </thead>\n  <tbody>\n    <tr>\n      <th>0</th>\n      <td>2.476712</td>\n      <td>-0.856472</td>\n      <td>-0.846733</td>\n      <td>-0.916319</td>\n      <td>-0.620147</td>\n      <td>0.862735</td>\n      <td>-1.217079</td>\n      <td>-0.279597</td>\n    </tr>\n    <tr>\n      <th>1</th>\n      <td>2.476712</td>\n      <td>-0.856472</td>\n      <td>-0.846733</td>\n      <td>-0.916319</td>\n      <td>-0.620147</td>\n      <td>1.055651</td>\n      <td>-1.217079</td>\n      <td>-0.279597</td>\n    </tr>\n    <tr>\n      <th>2</th>\n      <td>0.491187</td>\n      <td>0.795140</td>\n      <td>-0.846733</td>\n      <td>2.174405</td>\n      <td>-1.038638</td>\n      <td>-0.526262</td>\n      <td>-2.239829</td>\n      <td>3.551340</td>\n    </tr>\n    <tr>\n      <th>3</th>\n      <td>0.491187</td>\n      <td>0.795140</td>\n      <td>-0.846733</td>\n      <td>2.174405</td>\n      <td>-1.038638</td>\n      <td>-0.526262</td>\n      <td>-2.239829</td>\n      <td>5.055221</td>\n    </tr>\n    <tr>\n      <th>4</th>\n      <td>-0.790075</td>\n      <td>0.678079</td>\n      <td>-0.846733</td>\n      <td>0.488555</td>\n      <td>-1.038638</td>\n      <td>0.070492</td>\n      <td>0.647569</td>\n      <td>4.976069</td>\n    </tr>\n  </tbody>\n</table>\n</div>",
                        "text/plain": "     Cement  Blast Furnace Slag   Fly Ash     Water  Superplasticizer  \\\n0  2.476712           -0.856472 -0.846733 -0.916319         -0.620147   \n1  2.476712           -0.856472 -0.846733 -0.916319         -0.620147   \n2  0.491187            0.795140 -0.846733  2.174405         -1.038638   \n3  0.491187            0.795140 -0.846733  2.174405         -1.038638   \n4 -0.790075            0.678079 -0.846733  0.488555         -1.038638   \n\n   Coarse Aggregate  Fine Aggregate       Age  \n0          0.862735       -1.217079 -0.279597  \n1          1.055651       -1.217079 -0.279597  \n2         -0.526262       -2.239829  3.551340  \n3         -0.526262       -2.239829  5.055221  \n4          0.070492        0.647569  4.976069  "
                    },
                    "execution_count": 12,
                    "metadata": {},
                    "output_type": "execute_result"
                }
            ],
            "source": "predictors_norm = (predictors - predictors.mean()) / predictors.std()\npredictors_norm.head()"
        },
        {
            "cell_type": "markdown",
            "metadata": {},
            "source": "Save the number of predictors to *n_cols* since we will need this number when building our network."
        },
        {
            "cell_type": "code",
            "execution_count": 13,
            "metadata": {
                "button": false,
                "new_sheet": false,
                "run_control": {
                    "read_only": false
                }
            },
            "outputs": [
                {
                    "data": {
                        "text/plain": "8"
                    },
                    "execution_count": 13,
                    "metadata": {},
                    "output_type": "execute_result"
                }
            ],
            "source": "n_cols = predictors_norm.shape[1] # number of predictors\nn_cols"
        },
        {
            "cell_type": "markdown",
            "metadata": {
                "button": false,
                "new_sheet": false,
                "run_control": {
                    "read_only": false
                }
            },
            "source": "<a id=\"item1\"></a>"
        },
        {
            "cell_type": "markdown",
            "metadata": {},
            "source": "<a id='item32'></a>"
        },
        {
            "cell_type": "markdown",
            "metadata": {
                "button": false,
                "new_sheet": false,
                "run_control": {
                    "read_only": false
                }
            },
            "source": "## Assignment Reactives "
        },
        {
            "cell_type": "code",
            "execution_count": 3,
            "metadata": {
                "button": false,
                "new_sheet": false,
                "run_control": {
                    "read_only": false
                }
            },
            "outputs": [
                {
                    "name": "stderr",
                    "output_type": "stream",
                    "text": "Using TensorFlow backend.\n"
                }
            ],
            "source": "import keras\nfrom keras.models import Sequential\nfrom keras.layers import Dense\nfrom sklearn.model_selection import train_test_split"
        },
        {
            "cell_type": "markdown",
            "metadata": {
                "button": false,
                "new_sheet": false,
                "run_control": {
                    "read_only": false
                }
            },
            "source": "#### Data Split"
        },
        {
            "cell_type": "markdown",
            "metadata": {},
            "source": "<a id='item33'></a>"
        },
        {
            "cell_type": "markdown",
            "metadata": {
                "button": false,
                "new_sheet": false,
                "run_control": {
                    "read_only": false
                }
            },
            "source": "### A.- Baseline Model"
        },
        {
            "cell_type": "code",
            "execution_count": 13,
            "metadata": {
                "button": false,
                "new_sheet": false,
                "run_control": {
                    "read_only": false
                }
            },
            "outputs": [
                {
                    "name": "stdout",
                    "output_type": "stream",
                    "text": "WARNING:tensorflow:From /opt/conda/envs/Python36/lib/python3.6/site-packages/tensorflow/python/framework/op_def_library.py:263: colocate_with (from tensorflow.python.framework.ops) is deprecated and will be removed in a future version.\nInstructions for updating:\nColocations handled automatically by placer.\n"
                }
            ],
            "source": "# define regression model\ndef regression_modelA():\n    # create model\n    model = Sequential()\n    model.add(Dense(10, activation='relu', input_shape=(n_cols,)))\n    model.add(Dense(1))\n    \n    # compile model\n    model.compile(optimizer='adam', loss='mean_squared_error')\n    return model\n\n# build the model\nmodelA = regression_modelA()\nmodelA_mse = []"
        },
        {
            "cell_type": "markdown",
            "metadata": {
                "button": false,
                "new_sheet": false,
                "run_control": {
                    "read_only": false
                }
            },
            "source": "<a id=\"item4\"></a>"
        },
        {
            "cell_type": "code",
            "execution_count": 19,
            "metadata": {
                "scrolled": true
            },
            "outputs": [
                {
                    "name": "stdout",
                    "output_type": "stream",
                    "text": "Mean Squared Error: 225.49709539814674\nMean Squared Error: 136.9842591023368\nMean Squared Error: 117.40692775689283\nMean Squared Error: 105.67938876846462\nMean Squared Error: 97.77100895755113\nMean Squared Error: 94.78102420448872\nMean Squared Error: 81.2638254998957\nMean Squared Error: 56.15161184662754\nMean Squared Error: 55.04465724117934\nMean Squared Error: 55.5423759534521\nMean Squared Error: 50.01630743576099\nMean Squared Error: 53.21373835196387\nMean Squared Error: 53.695656736306\nMean Squared Error: 48.90066954233114\nMean Squared Error: 48.438614237269924\nMean Squared Error: 54.550156479128745\nMean Squared Error: 45.153284511134075\nMean Squared Error: 50.303080364338406\nMean Squared Error: 47.86191546492592\nMean Squared Error: 48.27621736495626\nMean Squared Error: 45.79138952705853\nMean Squared Error: 51.28784350052621\nMean Squared Error: 50.4612536877876\nMean Squared Error: 43.94135318990664\nMean Squared Error: 50.155584267428004\nMean Squared Error: 52.1070398620803\nMean Squared Error: 53.865086638811725\nMean Squared Error: 56.87809753417969\nMean Squared Error: 52.09137056714894\nMean Squared Error: 41.841474477527214\nMean Squared Error: 48.39325584485693\nMean Squared Error: 47.143941120036594\nMean Squared Error: 54.18380212012232\nMean Squared Error: 48.71531282196539\nMean Squared Error: 40.41870044350238\nMean Squared Error: 54.0275975816844\nMean Squared Error: 47.98280265338984\nMean Squared Error: 46.88062256748236\nMean Squared Error: 54.51547889339114\nMean Squared Error: 48.23287109572525\nMean Squared Error: 46.81803313813935\nMean Squared Error: 52.239149914590286\nMean Squared Error: 45.9130982457627\nMean Squared Error: 53.13081799355911\nMean Squared Error: 45.25024338756179\nMean Squared Error: 45.537507609642056\nMean Squared Error: 43.03140868646813\nMean Squared Error: 44.407640846030226\nMean Squared Error: 54.72773848845349\nMean Squared Error: 45.530999859559884\n"
                }
            ],
            "source": "for run in range(0, 50):\n    # 1.- Split data Randomly\n    pred_train, pred_test, target_train, target_test = train_test_split(predictors, target, test_size=0.30, shuffle=True)\n    # 2.- Train Model\n    historyA = modelA.fit(pred_train, target_train, validation_data=(pred_test, target_test), epochs=50, verbose=0)\n    # 3.- Evaluate Model\n    mse = modelA.evaluate(pred_test, target_test, verbose=0)\n    # 4.- Log MSE for this run\n    print(\"Mean Squared Error: {}\".format(mse))\n    # Save\n    modelA_mse.append(mse)\n\n# Save History & mse \nhistA_df = pd.DataFrame(historyA.history) \nhistA_json_file = 'historyA.json' \n\nmseA_df = pd.DataFrame(modelA_mse) \nmseA_json_file = 'mseA.json'\n\nwith open(histA_json_file, mode='w') as f:\n    histA_df.to_json(f)\n\nwith open(mseA_json_file, mode='w') as f:\n    mseA_df.to_json(f)"
        },
        {
            "cell_type": "markdown",
            "metadata": {},
            "source": "### B.- Model With Normalized Data"
        },
        {
            "cell_type": "code",
            "execution_count": 20,
            "metadata": {},
            "outputs": [],
            "source": "# define regression model\ndef regression_modelB():\n    # create model\n    model = Sequential()\n    model.add(Dense(10, activation='relu', input_shape=(n_cols,)))\n    model.add(Dense(1))\n    \n    # compile model\n    model.compile(optimizer='adam', loss='mean_squared_error')\n    return model\n\n# build the model\nmodelB = regression_modelB()\nmodelB_mse = []"
        },
        {
            "cell_type": "code",
            "execution_count": 21,
            "metadata": {},
            "outputs": [
                {
                    "name": "stdout",
                    "output_type": "stream",
                    "text": "Mean Squared Error: 449.063573349641\nMean Squared Error: 180.17296281833094\nMean Squared Error: 119.32984042862087\nMean Squared Error: 92.83998705422609\nMean Squared Error: 64.60153018000828\nMean Squared Error: 59.64051463303057\nMean Squared Error: 44.24439548134418\nMean Squared Error: 48.28525298775978\nMean Squared Error: 44.32518504121157\nMean Squared Error: 38.59185494728459\nMean Squared Error: 41.419917683771125\nMean Squared Error: 36.66788767842413\nMean Squared Error: 39.05540328041249\nMean Squared Error: 38.01394631098775\nMean Squared Error: 32.72288495900176\nMean Squared Error: 33.103544982120056\nMean Squared Error: 31.117295644815687\nMean Squared Error: 35.329734283743555\nMean Squared Error: 32.65873709002745\nMean Squared Error: 30.813010015148176\nMean Squared Error: 34.88356720513896\nMean Squared Error: 33.47923294857482\nMean Squared Error: 32.935919165997056\nMean Squared Error: 33.25049742911626\nMean Squared Error: 35.5110284626291\nMean Squared Error: 32.00692230520897\nMean Squared Error: 37.964073588547194\nMean Squared Error: 36.830851360432156\nMean Squared Error: 30.11533650765527\nMean Squared Error: 33.67937274426704\nMean Squared Error: 28.80574099840084\nMean Squared Error: 34.05181266266165\nMean Squared Error: 34.83597159154207\nMean Squared Error: 30.84749887213352\nMean Squared Error: 33.74185796694462\nMean Squared Error: 32.80996785580533\nMean Squared Error: 31.519477368944287\nMean Squared Error: 35.7127162908659\nMean Squared Error: 33.452943067334616\nMean Squared Error: 34.604660577372826\nMean Squared Error: 33.8611349334223\nMean Squared Error: 32.00795527337824\nMean Squared Error: 27.938428996064516\nMean Squared Error: 29.19982092897483\nMean Squared Error: 34.996904107745024\nMean Squared Error: 27.202507130150657\nMean Squared Error: 35.43387012419963\nMean Squared Error: 31.650326589936192\nMean Squared Error: 29.606274033827304\nMean Squared Error: 31.254729878941014\n"
                }
            ],
            "source": "for run in range(0, 50):\n    # 1.- Split data Randomly\n    pred_train, pred_test, target_train, target_test = train_test_split(predictors_norm, target, test_size=0.30, shuffle=True)\n    # 2.- Train Model\n    historyB = modelB.fit(pred_train, target_train, validation_data=(pred_test, target_test), epochs=50, verbose=0)\n    # 3.- Evaluate Model\n    mse = modelB.evaluate(pred_test, target_test, verbose=0)\n    # 4.- Log MSE for this run\n    print(\"Mean Squared Error: {}\".format(mse))\n    # Save\n    modelB_mse.append(mse)\n    \n# Save History & mse \nhistB_df = pd.DataFrame(historyB.history) \nhistB_json_file = 'historyB.json' \n\nmseB_df = pd.DataFrame(modelB_mse) \nmseB_json_file = 'mseB.json'\n\nwith open(histB_json_file, mode='w') as f:\n    histB_df.to_json(f)\n\nwith open(mseB_json_file, mode='w') as f:\n    mseB_df.to_json(f)"
        },
        {
            "cell_type": "markdown",
            "metadata": {},
            "source": "### C.- Model  B But 100 Epochs"
        },
        {
            "cell_type": "code",
            "execution_count": 15,
            "metadata": {},
            "outputs": [],
            "source": "# define regression model\ndef regression_modelC():\n    # create model\n    model = Sequential()\n    model.add(Dense(10, activation='relu', input_shape=(n_cols,)))\n    model.add(Dense(1))\n    \n    # compile model\n    model.compile(optimizer='adam', loss='mean_squared_error')\n    return model\n\n# build the model\nmodelC = regression_modelC()\nmodelC_mse = []"
        },
        {
            "cell_type": "code",
            "execution_count": 17,
            "metadata": {},
            "outputs": [
                {
                    "name": "stdout",
                    "output_type": "stream",
                    "text": "WARNING:tensorflow:From /opt/conda/envs/Python36/lib/python3.6/site-packages/tensorflow/python/ops/math_ops.py:3066: to_int32 (from tensorflow.python.ops.math_ops) is deprecated and will be removed in a future version.\nInstructions for updating:\nUse tf.cast instead.\nMean Squared Error: 257.1707228379728\nMean Squared Error: 87.73570337881934\nMean Squared Error: 50.06321982967044\nMean Squared Error: 39.94807419267673\nMean Squared Error: 41.97709317500537\nMean Squared Error: 41.15213521321615\nMean Squared Error: 35.12523248666313\nMean Squared Error: 43.639287038142626\nMean Squared Error: 33.89761751292207\nMean Squared Error: 32.7154931559146\nMean Squared Error: 36.99023070844632\nMean Squared Error: 29.84426130523188\nMean Squared Error: 33.4920930769837\nMean Squared Error: 36.90423475345747\nMean Squared Error: 32.19155194921401\nMean Squared Error: 35.508380266455\nMean Squared Error: 31.590598868706465\nMean Squared Error: 31.64764131465776\nMean Squared Error: 32.590537753305775\nMean Squared Error: 34.34396356132038\nMean Squared Error: 30.0589178017428\nMean Squared Error: 33.49908506523058\nMean Squared Error: 29.963832274995575\nMean Squared Error: 33.03004914811514\nMean Squared Error: 33.55251479534655\nMean Squared Error: 28.674810804595452\nMean Squared Error: 31.20716660385379\nMean Squared Error: 32.73544765830426\nMean Squared Error: 29.27787047450982\nMean Squared Error: 32.19734640646135\nMean Squared Error: 34.975478286496255\nMean Squared Error: 31.383857751741377\nMean Squared Error: 28.337039040130318\nMean Squared Error: 37.048920085129225\nMean Squared Error: 34.73774139626512\nMean Squared Error: 30.084284050950725\nMean Squared Error: 31.56620986098996\nMean Squared Error: 30.35182763997791\nMean Squared Error: 28.81673621514083\nMean Squared Error: 27.6158473561111\nMean Squared Error: 31.43260737298762\nMean Squared Error: 30.913187860285195\nMean Squared Error: 30.120976716569327\nMean Squared Error: 26.193341955783684\nMean Squared Error: 28.632926002675276\nMean Squared Error: 28.705344814312884\nMean Squared Error: 27.68668757441746\nMean Squared Error: 25.170018186846985\nMean Squared Error: 31.490802295771232\nMean Squared Error: 33.24418957410893\n"
                }
            ],
            "source": "for run in range(0, 50):\n    # 1.- Split data Randomly\n    pred_train, pred_test, target_train, target_test = train_test_split(predictors_norm, target, test_size=0.30, shuffle=True)\n    # 2.- Train Model\n    historyC = modelC.fit(pred_train, target_train, validation_data=(pred_test, target_test), epochs=100, verbose=0)\n    # 3.- Evaluate Model\n    mse = modelC.evaluate(pred_test, target_test, verbose=0)\n    # 4.- Log MSE for this run\n    print(\"Mean Squared Error: {}\".format(mse))\n    # Save\n    modelC_mse.append(mse)\n    \n# Save History & mse \nhistC_df = pd.DataFrame(historyC.history) \nhistC_json_file = 'historyC.json' \n\nmseC_df = pd.DataFrame(modelC_mse) \nmseC_json_file = 'mseC.json'\n\nwith open(histC_json_file, mode='w') as f:\n    histC_df.to_json(f)\n\nwith open(mseC_json_file, mode='w') as f:\n    mseC_df.to_json(f)"
        },
        {
            "cell_type": "markdown",
            "metadata": {},
            "source": "### D.- Model with 3 Hidden Layers Normalized data and 50 Epochs"
        },
        {
            "cell_type": "code",
            "execution_count": 21,
            "metadata": {},
            "outputs": [],
            "source": "def regression_modelD():\n    # create model\n    model = Sequential()\n    model.add(Dense(10, activation='relu', input_shape=(n_cols,)))\n    model.add(Dense(10, activation='relu'))\n    model.add(Dense(10, activation='relu'))\n    model.add(Dense(1))\n    \n    # compile model\n    model.compile(optimizer='adam', loss='mean_squared_error')\n    return model\n\n# build the model\nmodelD = regression_modelD()\nmodelD_mse = []"
        },
        {
            "cell_type": "code",
            "execution_count": 19,
            "metadata": {
                "scrolled": true
            },
            "outputs": [
                {
                    "name": "stdout",
                    "output_type": "stream",
                    "text": "Mean Squared Error: 142.96949773004525\nMean Squared Error: 119.68216762110639\nMean Squared Error: 89.72768895911553\nMean Squared Error: 59.109005344724196\nMean Squared Error: 47.79425219193246\nMean Squared Error: 40.10697108642183\nMean Squared Error: 41.21668863759457\nMean Squared Error: 33.489834732993906\nMean Squared Error: 37.46272432765529\nMean Squared Error: 38.68384802611514\nMean Squared Error: 37.04815683704364\nMean Squared Error: 35.84855391369668\nMean Squared Error: 33.177924393835966\nMean Squared Error: 30.90190015873091\nMean Squared Error: 31.106857972623462\nMean Squared Error: 30.30000369371334\nMean Squared Error: 25.744007450091413\nMean Squared Error: 26.21724431800225\nMean Squared Error: 23.06025347663361\nMean Squared Error: 28.72913908726961\nMean Squared Error: 25.995038017100114\nMean Squared Error: 27.756547329109463\nMean Squared Error: 27.04649473394005\nMean Squared Error: 26.796271549459416\nMean Squared Error: 25.956304599552094\nMean Squared Error: 22.645794704894033\nMean Squared Error: 22.92427079963067\nMean Squared Error: 20.3004747656171\nMean Squared Error: 21.390015994075046\nMean Squared Error: 27.58704253384982\nMean Squared Error: 26.25867769556138\nMean Squared Error: 25.669614995567542\nMean Squared Error: 20.27969703242231\nMean Squared Error: 20.132364402696926\nMean Squared Error: 21.444304384459954\nMean Squared Error: 23.00053102684638\nMean Squared Error: 20.78830389991933\nMean Squared Error: 18.77434608928594\nMean Squared Error: 19.832399238660496\nMean Squared Error: 22.001809552263673\nMean Squared Error: 19.819111438245063\nMean Squared Error: 18.959810155109295\nMean Squared Error: 20.271505775575115\nMean Squared Error: 23.684082679378175\nMean Squared Error: 24.38271097226436\nMean Squared Error: 21.96843800344128\nMean Squared Error: 21.400184267161347\nMean Squared Error: 16.878547995607445\nMean Squared Error: 18.418412511016946\nMean Squared Error: 19.472883551637718\n"
                }
            ],
            "source": "for run in range(0, 50):\n    # 1.- Split data Randomly\n    pred_train, pred_test, target_train, target_test = train_test_split(predictors_norm, target, test_size=0.30, shuffle=True)\n    # 2.- Train Model\n    historyD = modelD.fit(pred_train, target_train, validation_data=(pred_test, target_test), epochs=50, verbose=0)\n    # 3.- Evaluate Model\n    mse = modelD.evaluate(pred_test, target_test, verbose=0)\n    # 4.- Log MSE for this run\n    print(\"Mean Squared Error: {}\".format(mse))\n    # Save\n    modelD_mse.append(mse)\n    \n# Save History & mse \nhistD_df = pd.DataFrame(historyD.history) \nhistD_json_file = 'historyD.json' \n\nmseD_df = pd.DataFrame(modelD_mse) \nmseD_json_file = 'mseD.json'\n\nwith open(histD_json_file, mode='w') as f:\n    histD_df.to_json(f)\n\nwith open(mseD_json_file, mode='w') as f:\n    mseD_df.to_json(f)"
        },
        {
            "cell_type": "markdown",
            "metadata": {},
            "source": "## Because training took a long time I saved results as jsons and uploaded them to my ibm storage bucket, here i bring them back"
        },
        {
            "cell_type": "code",
            "execution_count": 17,
            "metadata": {},
            "outputs": [],
            "source": "# The code was removed by Watson Studio for sharing."
        },
        {
            "cell_type": "code",
            "execution_count": null,
            "metadata": {
                "scrolled": false
            },
            "outputs": [],
            "source": "#somehow A model has an extra row, since its all random numbers\n# I just drop it here\nmseA_df = mseA_df.sort_index(axis=0)\nmsA_df = mseA_df.drop(mseA_df.tail(1).index, inplace=True)\nmseA_df.tail(10)"
        },
        {
            "cell_type": "code",
            "execution_count": 28,
            "metadata": {},
            "outputs": [
                {
                    "data": {
                        "text/plain": "(50, 1)"
                    },
                    "execution_count": 28,
                    "metadata": {},
                    "output_type": "execute_result"
                }
            ],
            "source": "mseA_df.shape"
        },
        {
            "cell_type": "code",
            "execution_count": 29,
            "metadata": {
                "scrolled": true
            },
            "outputs": [
                {
                    "data": {
                        "text/html": "<div>\n<style scoped>\n    .dataframe tbody tr th:only-of-type {\n        vertical-align: middle;\n    }\n\n    .dataframe tbody tr th {\n        vertical-align: top;\n    }\n\n    .dataframe thead th {\n        text-align: right;\n    }\n</style>\n<table border=\"1\" class=\"dataframe\">\n  <thead>\n    <tr style=\"text-align: right;\">\n      <th></th>\n      <th>mseA</th>\n      <th>mseB</th>\n      <th>mseC</th>\n      <th>mseD</th>\n    </tr>\n  </thead>\n  <tbody>\n    <tr>\n      <th>0</th>\n      <td>785.490002</td>\n      <td>449.063573</td>\n      <td>257.170723</td>\n      <td>142.969498</td>\n    </tr>\n    <tr>\n      <th>1</th>\n      <td>225.497095</td>\n      <td>180.172963</td>\n      <td>87.735703</td>\n      <td>119.682168</td>\n    </tr>\n    <tr>\n      <th>2</th>\n      <td>136.984259</td>\n      <td>119.329840</td>\n      <td>50.063220</td>\n      <td>89.727689</td>\n    </tr>\n    <tr>\n      <th>3</th>\n      <td>117.406928</td>\n      <td>92.839987</td>\n      <td>39.948074</td>\n      <td>59.109005</td>\n    </tr>\n    <tr>\n      <th>4</th>\n      <td>105.679389</td>\n      <td>64.601530</td>\n      <td>41.977093</td>\n      <td>47.794252</td>\n    </tr>\n    <tr>\n      <th>5</th>\n      <td>97.771009</td>\n      <td>59.640515</td>\n      <td>41.152135</td>\n      <td>40.106971</td>\n    </tr>\n    <tr>\n      <th>6</th>\n      <td>94.781024</td>\n      <td>44.244395</td>\n      <td>35.125232</td>\n      <td>41.216689</td>\n    </tr>\n    <tr>\n      <th>7</th>\n      <td>81.263825</td>\n      <td>48.285253</td>\n      <td>43.639287</td>\n      <td>33.489835</td>\n    </tr>\n    <tr>\n      <th>8</th>\n      <td>56.151612</td>\n      <td>44.325185</td>\n      <td>33.897618</td>\n      <td>37.462724</td>\n    </tr>\n    <tr>\n      <th>9</th>\n      <td>55.044657</td>\n      <td>38.591855</td>\n      <td>32.715493</td>\n      <td>38.683848</td>\n    </tr>\n    <tr>\n      <th>10</th>\n      <td>55.542376</td>\n      <td>41.419918</td>\n      <td>36.990231</td>\n      <td>37.048157</td>\n    </tr>\n    <tr>\n      <th>11</th>\n      <td>50.016307</td>\n      <td>36.667888</td>\n      <td>29.844261</td>\n      <td>35.848554</td>\n    </tr>\n    <tr>\n      <th>12</th>\n      <td>53.213738</td>\n      <td>39.055403</td>\n      <td>33.492093</td>\n      <td>33.177924</td>\n    </tr>\n    <tr>\n      <th>13</th>\n      <td>53.695657</td>\n      <td>38.013946</td>\n      <td>36.904235</td>\n      <td>30.901900</td>\n    </tr>\n    <tr>\n      <th>14</th>\n      <td>48.900670</td>\n      <td>32.722885</td>\n      <td>32.191552</td>\n      <td>31.106858</td>\n    </tr>\n    <tr>\n      <th>15</th>\n      <td>48.438614</td>\n      <td>33.103545</td>\n      <td>35.508380</td>\n      <td>30.300004</td>\n    </tr>\n    <tr>\n      <th>16</th>\n      <td>54.550156</td>\n      <td>31.117296</td>\n      <td>31.590599</td>\n      <td>25.744007</td>\n    </tr>\n    <tr>\n      <th>17</th>\n      <td>45.153285</td>\n      <td>35.329734</td>\n      <td>31.647641</td>\n      <td>26.217244</td>\n    </tr>\n    <tr>\n      <th>18</th>\n      <td>50.303080</td>\n      <td>32.658737</td>\n      <td>32.590538</td>\n      <td>23.060253</td>\n    </tr>\n    <tr>\n      <th>19</th>\n      <td>47.861915</td>\n      <td>30.813010</td>\n      <td>34.343964</td>\n      <td>28.729139</td>\n    </tr>\n    <tr>\n      <th>20</th>\n      <td>48.276217</td>\n      <td>34.883567</td>\n      <td>30.058918</td>\n      <td>25.995038</td>\n    </tr>\n    <tr>\n      <th>21</th>\n      <td>45.791390</td>\n      <td>33.479233</td>\n      <td>33.499085</td>\n      <td>27.756547</td>\n    </tr>\n    <tr>\n      <th>22</th>\n      <td>51.287844</td>\n      <td>32.935919</td>\n      <td>29.963832</td>\n      <td>27.046495</td>\n    </tr>\n    <tr>\n      <th>23</th>\n      <td>50.461254</td>\n      <td>33.250497</td>\n      <td>33.030049</td>\n      <td>26.796272</td>\n    </tr>\n    <tr>\n      <th>24</th>\n      <td>43.941353</td>\n      <td>35.511028</td>\n      <td>33.552515</td>\n      <td>25.956305</td>\n    </tr>\n    <tr>\n      <th>25</th>\n      <td>50.155584</td>\n      <td>32.006922</td>\n      <td>28.674811</td>\n      <td>22.645795</td>\n    </tr>\n    <tr>\n      <th>26</th>\n      <td>52.107040</td>\n      <td>37.964074</td>\n      <td>31.207167</td>\n      <td>22.924271</td>\n    </tr>\n    <tr>\n      <th>27</th>\n      <td>53.865087</td>\n      <td>36.830851</td>\n      <td>32.735448</td>\n      <td>20.300475</td>\n    </tr>\n    <tr>\n      <th>28</th>\n      <td>56.878098</td>\n      <td>30.115337</td>\n      <td>29.277870</td>\n      <td>21.390016</td>\n    </tr>\n    <tr>\n      <th>29</th>\n      <td>52.091371</td>\n      <td>33.679373</td>\n      <td>32.197346</td>\n      <td>27.587043</td>\n    </tr>\n    <tr>\n      <th>30</th>\n      <td>41.841474</td>\n      <td>28.805741</td>\n      <td>34.975478</td>\n      <td>26.258678</td>\n    </tr>\n    <tr>\n      <th>31</th>\n      <td>48.393256</td>\n      <td>34.051813</td>\n      <td>31.383858</td>\n      <td>25.669615</td>\n    </tr>\n    <tr>\n      <th>32</th>\n      <td>47.143941</td>\n      <td>34.835972</td>\n      <td>28.337039</td>\n      <td>20.279697</td>\n    </tr>\n    <tr>\n      <th>33</th>\n      <td>54.183802</td>\n      <td>30.847499</td>\n      <td>37.048920</td>\n      <td>20.132364</td>\n    </tr>\n    <tr>\n      <th>34</th>\n      <td>48.715313</td>\n      <td>33.741858</td>\n      <td>34.737741</td>\n      <td>21.444304</td>\n    </tr>\n    <tr>\n      <th>35</th>\n      <td>40.418700</td>\n      <td>32.809968</td>\n      <td>30.084284</td>\n      <td>23.000531</td>\n    </tr>\n    <tr>\n      <th>36</th>\n      <td>54.027598</td>\n      <td>31.519477</td>\n      <td>31.566210</td>\n      <td>20.788304</td>\n    </tr>\n    <tr>\n      <th>37</th>\n      <td>47.982803</td>\n      <td>35.712716</td>\n      <td>30.351828</td>\n      <td>18.774346</td>\n    </tr>\n    <tr>\n      <th>38</th>\n      <td>46.880623</td>\n      <td>33.452943</td>\n      <td>28.816736</td>\n      <td>19.832399</td>\n    </tr>\n    <tr>\n      <th>39</th>\n      <td>54.515479</td>\n      <td>34.604661</td>\n      <td>27.615847</td>\n      <td>22.001810</td>\n    </tr>\n    <tr>\n      <th>40</th>\n      <td>48.232871</td>\n      <td>33.861135</td>\n      <td>31.432607</td>\n      <td>19.819111</td>\n    </tr>\n    <tr>\n      <th>41</th>\n      <td>46.818033</td>\n      <td>32.007955</td>\n      <td>30.913188</td>\n      <td>18.959810</td>\n    </tr>\n    <tr>\n      <th>42</th>\n      <td>52.239150</td>\n      <td>27.938429</td>\n      <td>30.120977</td>\n      <td>20.271506</td>\n    </tr>\n    <tr>\n      <th>43</th>\n      <td>45.913098</td>\n      <td>29.199821</td>\n      <td>26.193342</td>\n      <td>23.684083</td>\n    </tr>\n    <tr>\n      <th>44</th>\n      <td>53.130818</td>\n      <td>34.996904</td>\n      <td>28.632926</td>\n      <td>24.382711</td>\n    </tr>\n    <tr>\n      <th>45</th>\n      <td>45.250243</td>\n      <td>27.202507</td>\n      <td>28.705345</td>\n      <td>21.968438</td>\n    </tr>\n    <tr>\n      <th>46</th>\n      <td>45.537508</td>\n      <td>35.433870</td>\n      <td>27.686688</td>\n      <td>21.400184</td>\n    </tr>\n    <tr>\n      <th>47</th>\n      <td>43.031409</td>\n      <td>31.650327</td>\n      <td>25.170018</td>\n      <td>16.878548</td>\n    </tr>\n    <tr>\n      <th>48</th>\n      <td>44.407641</td>\n      <td>29.606274</td>\n      <td>31.490802</td>\n      <td>18.418413</td>\n    </tr>\n    <tr>\n      <th>49</th>\n      <td>54.727738</td>\n      <td>31.254730</td>\n      <td>33.244190</td>\n      <td>19.472884</td>\n    </tr>\n  </tbody>\n</table>\n</div>",
                        "text/plain": "          mseA        mseB        mseC        mseD\n0   785.490002  449.063573  257.170723  142.969498\n1   225.497095  180.172963   87.735703  119.682168\n2   136.984259  119.329840   50.063220   89.727689\n3   117.406928   92.839987   39.948074   59.109005\n4   105.679389   64.601530   41.977093   47.794252\n5    97.771009   59.640515   41.152135   40.106971\n6    94.781024   44.244395   35.125232   41.216689\n7    81.263825   48.285253   43.639287   33.489835\n8    56.151612   44.325185   33.897618   37.462724\n9    55.044657   38.591855   32.715493   38.683848\n10   55.542376   41.419918   36.990231   37.048157\n11   50.016307   36.667888   29.844261   35.848554\n12   53.213738   39.055403   33.492093   33.177924\n13   53.695657   38.013946   36.904235   30.901900\n14   48.900670   32.722885   32.191552   31.106858\n15   48.438614   33.103545   35.508380   30.300004\n16   54.550156   31.117296   31.590599   25.744007\n17   45.153285   35.329734   31.647641   26.217244\n18   50.303080   32.658737   32.590538   23.060253\n19   47.861915   30.813010   34.343964   28.729139\n20   48.276217   34.883567   30.058918   25.995038\n21   45.791390   33.479233   33.499085   27.756547\n22   51.287844   32.935919   29.963832   27.046495\n23   50.461254   33.250497   33.030049   26.796272\n24   43.941353   35.511028   33.552515   25.956305\n25   50.155584   32.006922   28.674811   22.645795\n26   52.107040   37.964074   31.207167   22.924271\n27   53.865087   36.830851   32.735448   20.300475\n28   56.878098   30.115337   29.277870   21.390016\n29   52.091371   33.679373   32.197346   27.587043\n30   41.841474   28.805741   34.975478   26.258678\n31   48.393256   34.051813   31.383858   25.669615\n32   47.143941   34.835972   28.337039   20.279697\n33   54.183802   30.847499   37.048920   20.132364\n34   48.715313   33.741858   34.737741   21.444304\n35   40.418700   32.809968   30.084284   23.000531\n36   54.027598   31.519477   31.566210   20.788304\n37   47.982803   35.712716   30.351828   18.774346\n38   46.880623   33.452943   28.816736   19.832399\n39   54.515479   34.604661   27.615847   22.001810\n40   48.232871   33.861135   31.432607   19.819111\n41   46.818033   32.007955   30.913188   18.959810\n42   52.239150   27.938429   30.120977   20.271506\n43   45.913098   29.199821   26.193342   23.684083\n44   53.130818   34.996904   28.632926   24.382711\n45   45.250243   27.202507   28.705345   21.968438\n46   45.537508   35.433870   27.686688   21.400184\n47   43.031409   31.650327   25.170018   16.878548\n48   44.407641   29.606274   31.490802   18.418413\n49   54.727738   31.254730   33.244190   19.472884"
                    },
                    "execution_count": 29,
                    "metadata": {},
                    "output_type": "execute_result"
                }
            ],
            "source": "#get al mse dta in a single dataframe\nmseCombined_df = pd.concat([mseA_df, mseB_df, mseC_df, mseD_df], axis=1)\nmseCombined_df"
        },
        {
            "cell_type": "markdown",
            "metadata": {},
            "source": "## HOW DATA IN EACH MODEL COMPARES"
        },
        {
            "cell_type": "code",
            "execution_count": 41,
            "metadata": {},
            "outputs": [
                {
                    "data": {
                        "text/html": "<div>\n<style scoped>\n    .dataframe tbody tr th:only-of-type {\n        vertical-align: middle;\n    }\n\n    .dataframe tbody tr th {\n        vertical-align: top;\n    }\n\n    .dataframe thead th {\n        text-align: right;\n    }\n</style>\n<table border=\"1\" class=\"dataframe\">\n  <thead>\n    <tr style=\"text-align: right;\">\n      <th></th>\n      <th>sum</th>\n      <th>mean</th>\n      <th>st deviation</th>\n    </tr>\n  </thead>\n  <tbody>\n    <tr>\n      <th>mseA</th>\n      <td>3731.992334</td>\n      <td>74.639847</td>\n      <td>107.151676</td>\n    </tr>\n    <tr>\n      <th>mseB</th>\n      <td>2476.188860</td>\n      <td>49.523777</td>\n      <td>63.041827</td>\n    </tr>\n    <tr>\n      <th>mseC</th>\n      <td>1921.233137</td>\n      <td>38.424663</td>\n      <td>32.824145</td>\n    </tr>\n    <tr>\n      <th>mseD</th>\n      <td>1624.212711</td>\n      <td>32.484254</td>\n      <td>23.812263</td>\n    </tr>\n  </tbody>\n</table>\n</div>",
                        "text/plain": "              sum       mean  st deviation\nmseA  3731.992334  74.639847    107.151676\nmseB  2476.188860  49.523777     63.041827\nmseC  1921.233137  38.424663     32.824145\nmseD  1624.212711  32.484254     23.812263"
                    },
                    "execution_count": 41,
                    "metadata": {},
                    "output_type": "execute_result"
                }
            ],
            "source": "#get metrics into a single df\nmseMetrics_df = pd.concat([mseCombined_df[:].sum(), mseCombined_df[:].mean(), mseCombined_df[:].std()], axis=1)\n#name columns according to metric\nmseMetrics_df.columns = ['sum', 'mean', 'st deviation']\n\nmseMetrics_df"
        },
        {
            "cell_type": "markdown",
            "metadata": {
                "scrolled": true
            },
            "source": "# To Save Data json outputs as json in an IBM Storage bucket"
        },
        {
            "cell_type": "code",
            "execution_count": 40,
            "metadata": {},
            "outputs": [],
            "source": "from ibm_botocore.client import ClientError"
        },
        {
            "cell_type": "code",
            "execution_count": 43,
            "metadata": {},
            "outputs": [],
            "source": "COS_ENDPOINT = \"\" # Current list avaiable at https://control.cloud-object-storage.cloud.ibm.com/v2/endpoints\nCOS_API_KEY_ID = \"\" # eg \"W00YiRnLW4a3fTjMB-odB-2ySfTrFBIQQWanc--P3byk\"\nCOS_AUTH_ENDPOINT = \"\"\nCOS_RESOURCE_CRN = \"\" # eg \"crn:v1:bluemix:public:cloud-object-storage:global:a/3bf0d9003abfb5d29761c3e97696b71c:d6f04d83-6c4f-4a62-a165-696756d63903::\"\n\ncos = ibm_boto3.resource(\"s3\",\n    ibm_api_key_id=COS_API_KEY_ID,\n    ibm_service_instance_id=COS_RESOURCE_CRN,\n    ibm_auth_endpoint=COS_AUTH_ENDPOINT,\n    config=Config(signature_version=\"oauth\"),\n    endpoint_url=COS_ENDPOINT\n)"
        },
        {
            "cell_type": "code",
            "execution_count": 49,
            "metadata": {},
            "outputs": [],
            "source": "def create_text_file(bucket_name, item_name, file_text):\n    print(\"Creating new item: {0}\".format(item_name))\n    try:\n        cos.Object(bucket_name, item_name).put(\n            Body=file_text\n        )\n        print(\"Item: {0} created!\".format(item_name))\n    except ClientError as be:\n        print(\"CLIENT ERROR: {0}\\n\".format(be))\n    except Exception as e:\n        print(\"Unable to create text file: {0}\".format(e))"
        },
        {
            "cell_type": "code",
            "execution_count": 50,
            "metadata": {},
            "outputs": [],
            "source": "def multi_part_upload(bucket_name, item_name, file_path):\n    try:\n        print(\"Starting file transfer for {0} to bucket: {1}\\n\".format(item_name, bucket_name))\n        # set 5 MB chunks\n        part_size = 1024 * 1024 * 5\n\n        # set threadhold to 15 MB\n        file_threshold = 1024 * 1024 * 15\n\n        # set the transfer threshold and chunk size\n        transfer_config = ibm_boto3.s3.transfer.TransferConfig(\n            multipart_threshold=file_threshold,\n            multipart_chunksize=part_size\n        )\n\n        # the upload_fileobj method will automatically execute a multi-part upload\n        # in 5 MB chunks for all files over 15 MB\n        with open(file_path, \"rb\") as file_data:\n            cos.Object(bucket_name, item_name).upload_fileobj(\n                Fileobj=file_data,\n                Config=transfer_config\n            )\n\n        print(\"Transfer for {0} Complete!\\n\".format(item_name))\n    except ClientError as be:\n        print(\"CLIENT ERROR: {0}\\n\".format(be))\n    except Exception as e:\n        print(\"Unable to complete multi-part upload: {0}\".format(e))"
        },
        {
            "cell_type": "code",
            "execution_count": 59,
            "metadata": {},
            "outputs": [
                {
                    "name": "stdout",
                    "output_type": "stream",
                    "text": "Starting file transfer for mseD.json to bucket: pythonbasicsfordatascienceproject-donotdelete-pr-gwi3uqkguzzhnj\n\nTransfer for mseD.json Complete!\n\n"
                }
            ],
            "source": "multi_part_upload(COS_RESOURCE_CRN, 'mseD.json', 'mseD.json')"
        },
        {
            "cell_type": "markdown",
            "metadata": {
                "button": false,
                "new_sheet": false,
                "run_control": {
                    "read_only": false
                }
            },
            "source": "\n<hr>\n\nCopyright &copy; 2019 [IBM Developer Skills Network](https://cognitiveclass.ai/?utm_source=bducopyrightlink&utm_medium=dswb&utm_campaign=bdu). This notebook and its source code are released under the terms of the [MIT License](https://bigdatauniversity.com/mit-license/)."
        }
    ],
    "metadata": {
        "kernelspec": {
            "display_name": "Python 3.6",
            "language": "python",
            "name": "python3"
        },
        "language_info": {
            "codemirror_mode": {
                "name": "ipython",
                "version": 3
            },
            "file_extension": ".py",
            "mimetype": "text/x-python",
            "name": "python",
            "nbconvert_exporter": "python",
            "pygments_lexer": "ipython3",
            "version": "3.6.9"
        }
    },
    "nbformat": 4,
    "nbformat_minor": 4
}